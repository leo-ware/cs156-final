{
 "cells": [
  {
   "cell_type": "code",
   "execution_count": 22,
   "metadata": {},
   "outputs": [],
   "source": [
    "import pandas as pd\n",
    "import numpy as np\n",
    "from requests import get"
   ]
  },
  {
   "cell_type": "code",
   "execution_count": 23,
   "metadata": {},
   "outputs": [],
   "source": [
    "paper_data = pd.read_csv(\"data/paper_data.csv\")\n",
    "citations = pd.read_csv(\"data/citations.csv\")"
   ]
  },
  {
   "cell_type": "code",
   "execution_count": 24,
   "metadata": {},
   "outputs": [
    {
     "data": {
      "text/plain": [
       "['https://api.semanticscholar.org/graph/v1/paper/172dbf8c7352bab99cdbfb6ebad04349ac2444f0?fields=title,embedding',\n",
       " 'https://api.semanticscholar.org/graph/v1/paper/2d1343d550e9c575594485851df8e78941a07511?fields=title,embedding',\n",
       " 'https://api.semanticscholar.org/graph/v1/paper/5aef733cdfad14196e49443e974d0dbf49a0dd2e?fields=title,embedding']"
      ]
     },
     "execution_count": 24,
     "metadata": {},
     "output_type": "execute_result"
    }
   ],
   "source": [
    "missingpapers = np.setdiff1d(citations.target, paper_data.paperId)\n",
    "\n",
    "def paper_url(paper_id, fields):\n",
    "    return f\"https://api.semanticscholar.org/graph/v1/paper/{paper_id}?fields={','.join(fields)}\"\n",
    "\n",
    "urls = [paper_url(paper_id, [\"title\", \"embedding\"]) for paper_id in missingpapers]\n",
    "urls"
   ]
  },
  {
   "cell_type": "code",
   "execution_count": 25,
   "metadata": {},
   "outputs": [
    {
     "data": {
      "text/html": [
       "<div>\n",
       "<style scoped>\n",
       "    .dataframe tbody tr th:only-of-type {\n",
       "        vertical-align: middle;\n",
       "    }\n",
       "\n",
       "    .dataframe tbody tr th {\n",
       "        vertical-align: top;\n",
       "    }\n",
       "\n",
       "    .dataframe thead th {\n",
       "        text-align: right;\n",
       "    }\n",
       "</style>\n",
       "<table border=\"1\" class=\"dataframe\">\n",
       "  <thead>\n",
       "    <tr style=\"text-align: right;\">\n",
       "      <th></th>\n",
       "      <th>paperId</th>\n",
       "      <th>title</th>\n",
       "      <th>embedding</th>\n",
       "    </tr>\n",
       "  </thead>\n",
       "  <tbody>\n",
       "    <tr>\n",
       "      <th>0</th>\n",
       "      <td>58a5cf0cb1b243062465500f68321b639f6cd306</td>\n",
       "      <td>NONPARAMETRIC IDENTIFICATION</td>\n",
       "      <td>[-3.0155277252197266, -2.0252156257629395, -1....</td>\n",
       "    </tr>\n",
       "    <tr>\n",
       "      <th>1</th>\n",
       "      <td>1276d81dd7dbf684d501ea9154661a8babfaf8c9</td>\n",
       "      <td>Operations management.</td>\n",
       "      <td>[0.37417685985565186, -2.443171739578247, 1.08...</td>\n",
       "    </tr>\n",
       "    <tr>\n",
       "      <th>2</th>\n",
       "      <td>e109a80439cc73611f70315cff2cc7e9b4e34f7d</td>\n",
       "      <td>Gaussian Processes for Global Optimization</td>\n",
       "      <td>[-3.205744743347168, -0.6856855154037476, 0.63...</td>\n",
       "    </tr>\n",
       "  </tbody>\n",
       "</table>\n",
       "</div>"
      ],
      "text/plain": [
       "                                    paperId  \\\n",
       "0  58a5cf0cb1b243062465500f68321b639f6cd306   \n",
       "1  1276d81dd7dbf684d501ea9154661a8babfaf8c9   \n",
       "2  e109a80439cc73611f70315cff2cc7e9b4e34f7d   \n",
       "\n",
       "                                        title  \\\n",
       "0                NONPARAMETRIC IDENTIFICATION   \n",
       "1                      Operations management.   \n",
       "2  Gaussian Processes for Global Optimization   \n",
       "\n",
       "                                           embedding  \n",
       "0  [-3.0155277252197266, -2.0252156257629395, -1....  \n",
       "1  [0.37417685985565186, -2.443171739578247, 1.08...  \n",
       "2  [-3.205744743347168, -0.6856855154037476, 0.63...  "
      ]
     },
     "execution_count": 25,
     "metadata": {},
     "output_type": "execute_result"
    }
   ],
   "source": [
    "results = [get(url).json() for url in urls]\n",
    "new_df = pd.DataFrame(results)\n",
    "new_df[\"embedding\"] = new_df[\"embedding\"].apply(lambda x: x[\"vector\"])\n",
    "new_df.head()"
   ]
  },
  {
   "cell_type": "code",
   "execution_count": 26,
   "metadata": {},
   "outputs": [
    {
     "data": {
      "text/html": [
       "<div>\n",
       "<style scoped>\n",
       "    .dataframe tbody tr th:only-of-type {\n",
       "        vertical-align: middle;\n",
       "    }\n",
       "\n",
       "    .dataframe tbody tr th {\n",
       "        vertical-align: top;\n",
       "    }\n",
       "\n",
       "    .dataframe thead th {\n",
       "        text-align: right;\n",
       "    }\n",
       "</style>\n",
       "<table border=\"1\" class=\"dataframe\">\n",
       "  <thead>\n",
       "    <tr style=\"text-align: right;\">\n",
       "      <th></th>\n",
       "      <th>paperId</th>\n",
       "      <th>title</th>\n",
       "      <th>embedding</th>\n",
       "    </tr>\n",
       "  </thead>\n",
       "  <tbody>\n",
       "    <tr>\n",
       "      <th>0</th>\n",
       "      <td>b1cdd6b0ab88dd50b2d228854bd9de3512785444</td>\n",
       "      <td>Optimizing Energy Management Strategy and Degr...</td>\n",
       "      <td>[-1.3419313430786133, 2.403834819793701, -3.24...</td>\n",
       "    </tr>\n",
       "    <tr>\n",
       "      <th>1</th>\n",
       "      <td>e2316b446637ac8e7363af4a95e95b49e3178d97</td>\n",
       "      <td>Data driven quantitative trust model for the I...</td>\n",
       "      <td>[-6.265685558319092, -2.0490870475769043, -2.8...</td>\n",
       "    </tr>\n",
       "    <tr>\n",
       "      <th>2</th>\n",
       "      <td>b1e538dbf538fd9fdf5f5870c5b7416ae08c9882</td>\n",
       "      <td>Differentially Private Federated Learning: A C...</td>\n",
       "      <td>[-5.616217613220215, -0.3546842336654663, -1.3...</td>\n",
       "    </tr>\n",
       "    <tr>\n",
       "      <th>3</th>\n",
       "      <td>0300e96335922acbdee5b9ace2529c2c2c5726a9</td>\n",
       "      <td>Machine Recognition of Hand Printing</td>\n",
       "      <td>[1.551882028579712, -4.45127010345459, -0.4198...</td>\n",
       "    </tr>\n",
       "    <tr>\n",
       "      <th>4</th>\n",
       "      <td>6fc4c7a500a90bb23dbd33d3020338ea3f707019</td>\n",
       "      <td>Bayesian optimization for sensor set selection</td>\n",
       "      <td>[-2.694502830505371, 0.4022102355957031, -1.16...</td>\n",
       "    </tr>\n",
       "  </tbody>\n",
       "</table>\n",
       "</div>"
      ],
      "text/plain": [
       "                                    paperId  \\\n",
       "0  b1cdd6b0ab88dd50b2d228854bd9de3512785444   \n",
       "1  e2316b446637ac8e7363af4a95e95b49e3178d97   \n",
       "2  b1e538dbf538fd9fdf5f5870c5b7416ae08c9882   \n",
       "3  0300e96335922acbdee5b9ace2529c2c2c5726a9   \n",
       "4  6fc4c7a500a90bb23dbd33d3020338ea3f707019   \n",
       "\n",
       "                                               title  \\\n",
       "0  Optimizing Energy Management Strategy and Degr...   \n",
       "1  Data driven quantitative trust model for the I...   \n",
       "2  Differentially Private Federated Learning: A C...   \n",
       "3               Machine Recognition of Hand Printing   \n",
       "4     Bayesian optimization for sensor set selection   \n",
       "\n",
       "                                           embedding  \n",
       "0  [-1.3419313430786133, 2.403834819793701, -3.24...  \n",
       "1  [-6.265685558319092, -2.0490870475769043, -2.8...  \n",
       "2  [-5.616217613220215, -0.3546842336654663, -1.3...  \n",
       "3  [1.551882028579712, -4.45127010345459, -0.4198...  \n",
       "4  [-2.694502830505371, 0.4022102355957031, -1.16...  "
      ]
     },
     "execution_count": 26,
     "metadata": {},
     "output_type": "execute_result"
    }
   ],
   "source": [
    "combined = pd.concat([paper_data, new_df], ignore_index=True)\n",
    "combined.head()"
   ]
  },
  {
   "cell_type": "code",
   "execution_count": 27,
   "metadata": {},
   "outputs": [],
   "source": [
    "replacements = dict(zip(missingpapers, new_df.paperId))\n",
    "new_target = citations.target.replace(replacements)\n",
    "citations.target = new_target"
   ]
  },
  {
   "cell_type": "code",
   "execution_count": 29,
   "metadata": {},
   "outputs": [],
   "source": [
    "citations.to_csv(\"data/citations.csv\", index=False)\n",
    "combined.to_csv(\"data/paper_data.csv\", index=False)"
   ]
  },
  {
   "cell_type": "code",
   "execution_count": null,
   "metadata": {},
   "outputs": [],
   "source": []
  }
 ],
 "metadata": {
  "interpreter": {
   "hash": "c30f2af5f468e7f5b45bcc30fca5f4886c90d54777aed916ed5f6294dfb24bf2"
  },
  "kernelspec": {
   "display_name": "Python 3.9.5 ('base')",
   "language": "python",
   "name": "python3"
  },
  "language_info": {
   "codemirror_mode": {
    "name": "ipython",
    "version": 3
   },
   "file_extension": ".py",
   "mimetype": "text/x-python",
   "name": "python",
   "nbconvert_exporter": "python",
   "pygments_lexer": "ipython3",
   "version": "3.9.5"
  },
  "orig_nbformat": 4
 },
 "nbformat": 4,
 "nbformat_minor": 2
}
