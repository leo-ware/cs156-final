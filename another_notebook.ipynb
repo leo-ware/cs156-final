{
 "cells": [
  {
   "cell_type": "code",
   "execution_count": 30,
   "metadata": {},
   "outputs": [],
   "source": [
    "paper_data_file = \"data/paper_data.csv\"\n",
    "citations_file = \"data/citations.csv\""
   ]
  },
  {
   "cell_type": "code",
   "execution_count": 81,
   "metadata": {},
   "outputs": [],
   "source": [
    "import pandas as pd\n",
    "import numpy as np\n",
    "import matplotlib.pyplot as plt\n",
    "from scipy import stats\n",
    "from time import time\n",
    "\n",
    "\n",
    "from sklearn.metrics import precision_score, recall_score, f1_score, accuracy_score\n",
    "from sklearn.model_selection import train_test_split\n",
    "from sklearn.pipeline import make_pipeline, Pipeline\n",
    "from sklearn.base import BaseEstimator, TransformerMixin\n",
    "from sklearn.decomposition import PCA\n",
    "from sklearn.preprocessing import StandardScaler\n",
    "from sklearn.linear_model import LogisticRegression\n",
    "from sklearn.ensemble import RandomForestClassifier\n",
    "from sklearn.svm import SVC"
   ]
  },
  {
   "cell_type": "code",
   "execution_count": 32,
   "metadata": {},
   "outputs": [
    {
     "name": "stdout",
     "output_type": "stream",
     "text": [
      "Index(['paperId', 'title', 'embedding'], dtype='object')\n",
      "Index(['source', 'target'], dtype='object')\n"
     ]
    }
   ],
   "source": [
    "paper_data = pd.read_csv(paper_data_file)\n",
    "print(paper_data.columns)\n",
    "citations = pd.read_csv(citations_file)\n",
    "print(citations.columns)"
   ]
  },
  {
   "cell_type": "code",
   "execution_count": 33,
   "metadata": {},
   "outputs": [
    {
     "data": {
      "text/plain": [
       "(3083, 768)"
      ]
     },
     "execution_count": 33,
     "metadata": {},
     "output_type": "execute_result"
    }
   ],
   "source": [
    "def get_embedding_matrix(series):\n",
    "    return np.vstack(series.apply(eval).apply(np.array).values)\n",
    "\n",
    "all_embeddings = get_embedding_matrix(paper_data.embedding)\n",
    "all_embeddings = StandardScaler().fit_transform(all_embeddings)\n",
    "print(all_embeddings.shape)\n",
    "\n",
    "embeddings_pca_10 = PCA(n_components=10).fit_transform(all_embeddings)\n",
    "print(embeddings_pca_10.shape)\n",
    "embeddings_pca_50 = PCA(n_components=50).fit_transform(all_embeddings)\n",
    "print(embeddings_pca_50.shape)"
   ]
  },
  {
   "cell_type": "code",
   "execution_count": 41,
   "metadata": {},
   "outputs": [
    {
     "data": {
      "image/png": "[encoded data removed]",
      "text/plain": [
       "<Figure size 432x288 with 1 Axes>"
      ]
     },
     "metadata": {
      "needs_background": "light"
     },
     "output_type": "display_data"
    }
   ],
   "source": [
    "citations.groupby(\"source\").count().hist(bins=30)\n",
    "plt.title(\"Number of references per paper\")\n",
    "plt.xlabel(\"# references\")\n",
    "plt.ylabel(\"# papers\")\n",
    "plt.show()"
   ]
  },
  {
   "cell_type": "code",
   "execution_count": 80,
   "metadata": {},
   "outputs": [],
   "source": [
    "def select_data(embeddings, source_paper, n_positive, n_negative, n_counterexamples=100):\n",
    "    \"\"\"Given a source paper, selects the positive and negative training examples and returns positive and negative test sets.\n",
    "    \"\"\"\n",
    "    not_source_papers = np.setdiff1d(np.unique(citations.source), [source_paper])\n",
    "\n",
    "    reference_group_ids = citations[citations.source == source_paper].target.values\n",
    "    reference_group_embeddings = embeddings[paper_data.paperId.isin(reference_group_ids)]\n",
    "    counterexample_group_ids = citations[citations.source.isin(not_source_papers)].target.values\n",
    "    counterexample_group_embeddings = embeddings[paper_data.paperId.isin(counterexample_group_ids)]\n",
    "\n",
    "    references_train_idx = np.random.choice(reference_group_embeddings.shape[0], n_positive, replace=False)\n",
    "    references_train = reference_group_embeddings[references_train_idx, :]\n",
    "    references_test = reference_group_embeddings[~references_train_idx, :]\n",
    "\n",
    "    counterexample_train_idx = np.random.choice(counterexample_group_embeddings.shape[0], n_negative, replace=False)\n",
    "    counterexample_train = counterexample_group_embeddings[counterexample_train_idx, :]\n",
    "    counterexample_test_idx = np.random.choice(counterexample_group_embeddings.shape[0], n_counterexamples, replace=False)\n",
    "    counterexample_test = counterexample_group_embeddings[counterexample_test_idx, :]\n",
    "\n",
    "    return references_train, references_test, counterexample_train, counterexample_test"
   ]
  },
  {
   "cell_type": "code",
   "execution_count": 56,
   "metadata": {},
   "outputs": [],
   "source": [
    "def make_name(model):\n",
    "    if isinstance(model, Pipeline):\n",
    "        return \"+\".join(make_name(step) for step in model.named_steps.values())\n",
    "    else:\n",
    "        return str(model)"
   ]
  },
  {
   "cell_type": "code",
   "execution_count": 86,
   "metadata": {},
   "outputs": [],
   "source": [
    "def score_supervised(models, embeddings, n_positive, n_negative):\n",
    "\n",
    "    precision = np.zeros([len(np.unique(citations.source)), len(models)])\n",
    "    recall = np.zeros_like(precision)\n",
    "    train_accuracy = np.zeros_like(precision)\n",
    "    test_accuracy = np.zeros_like(precision)\n",
    "\n",
    "    training_time = np.zeros_like(precision)\n",
    "    inference_time = np.zeros_like(precision)\n",
    "\n",
    "    n_reference_groups = 0\n",
    "\n",
    "    for i, source_paper in enumerate(np.unique(citations.source)):\n",
    "        try:\n",
    "            good_train, good_test, bad_train, bad_test = select_data(embeddings, source_paper, n_positive, n_negative)\n",
    "            n_reference_groups += 1\n",
    "        except ValueError:\n",
    "            continue\n",
    "        \n",
    "        # assemble dataset\n",
    "        y_train = np.array([1] * len(good_train) + [0] * len(bad_train))\n",
    "        X_train = np.vstack([good_train, bad_train])\n",
    "        y_test = np.array([1] * len(good_test) + [0] * len(bad_test))\n",
    "        X_test = np.vstack([good_test, bad_test])\n",
    "\n",
    "        for j, model in enumerate(models):\n",
    "            # train model\n",
    "            start = time()\n",
    "            model = model.fit(X_train, y_train)\n",
    "            training_time[i, j] = time() - start\n",
    "\n",
    "            # inference\n",
    "            start = time()\n",
    "            Y_train_pred = model.predict(X_train)\n",
    "            y_pred = model.predict(X_test)\n",
    "            inference_time[i, j] = time() - start\n",
    "\n",
    "            # evaluate model\n",
    "            precision[i, j] = precision_score(y_test, y_pred)\n",
    "            recall[i, j] = recall_score(y_test, y_pred)\n",
    "            train_accuracy[i, j] = accuracy_score(y_train, Y_train_pred)\n",
    "            test_accuracy[i, j] = accuracy_score(y_test, y_pred)\n",
    "    \n",
    "    results = pd.DataFrame()\n",
    "    results[\"model\"] = [make_name(model) for model in models]\n",
    "    results[\"train_accuracy\"] = train_accuracy.mean(axis=0)\n",
    "    results[\"test_accuracy\"] = test_accuracy.mean(axis=0)\n",
    "    results[\"precision\"] = precision.mean(axis=0)\n",
    "    results[\"recall\"] = recall.mean(axis=0)\n",
    "    results[\"training_time\"] = training_time.mean(axis=0)\n",
    "    results[\"inference_time\"] = inference_time.mean(axis=0)\n",
    "\n",
    "    report = {\n",
    "        \"models\": [make_name(model) for model in models],\n",
    "        \"results\": results,\n",
    "        \"n_reference_groups\": n_reference_groups,\n",
    "        \"n_positive\": n_positive,\n",
    "        \"n_negative\": n_negative,\n",
    "    }\n",
    "\n",
    "    return report"
   ]
  },
  {
   "cell_type": "code",
   "execution_count": 85,
   "metadata": {},
   "outputs": [
    {
     "name": "stdout",
     "output_type": "stream",
     "text": [
      "57\n"
     ]
    },
    {
     "data": {
      "text/html": [
       "<div>\n",
       "<style scoped>\n",
       "    .dataframe tbody tr th:only-of-type {\n",
       "        vertical-align: middle;\n",
       "    }\n",
       "\n",
       "    .dataframe tbody tr th {\n",
       "        vertical-align: top;\n",
       "    }\n",
       "\n",
       "    .dataframe thead th {\n",
       "        text-align: right;\n",
       "    }\n",
       "</style>\n",
       "<table border=\"1\" class=\"dataframe\">\n",
       "  <thead>\n",
       "    <tr style=\"text-align: right;\">\n",
       "      <th></th>\n",
       "      <th>model</th>\n",
       "      <th>train_accuracy</th>\n",
       "      <th>test_accuracy</th>\n",
       "      <th>precision</th>\n",
       "      <th>recall</th>\n",
       "      <th>training_time</th>\n",
       "      <th>inference_time</th>\n",
       "    </tr>\n",
       "  </thead>\n",
       "  <tbody>\n",
       "    <tr>\n",
       "      <th>0</th>\n",
       "      <td>LogisticRegression()</td>\n",
       "      <td>0.950000</td>\n",
       "      <td>0.719394</td>\n",
       "      <td>0.290104</td>\n",
       "      <td>0.823333</td>\n",
       "      <td>0.008371</td>\n",
       "      <td>0.000210</td>\n",
       "    </tr>\n",
       "    <tr>\n",
       "      <th>1</th>\n",
       "      <td>SVC()</td>\n",
       "      <td>0.936667</td>\n",
       "      <td>0.808788</td>\n",
       "      <td>0.416412</td>\n",
       "      <td>0.775000</td>\n",
       "      <td>0.000476</td>\n",
       "      <td>0.000908</td>\n",
       "    </tr>\n",
       "  </tbody>\n",
       "</table>\n",
       "</div>"
      ],
      "text/plain": [
       "                  model  train_accuracy  test_accuracy  precision    recall  \\\n",
       "0  LogisticRegression()        0.950000       0.719394   0.290104  0.823333   \n",
       "1                 SVC()        0.936667       0.808788   0.416412  0.775000   \n",
       "\n",
       "   training_time  inference_time  \n",
       "0       0.008371        0.000210  \n",
       "1       0.000476        0.000908  "
      ]
     },
     "execution_count": 85,
     "metadata": {},
     "output_type": "execute_result"
    }
   ],
   "source": [
    "models = [LogisticRegression(), SVC()]\n",
    "results = score_supervised(models, embeddings_pca_50, 10, 10)\n",
    "print(results[\"n_reference_groups\"])\n",
    "results[\"results\"]"
   ]
  },
  {
   "cell_type": "code",
   "execution_count": 18,
   "metadata": {},
   "outputs": [],
   "source": [
    "class RecenteringTransformer(BaseEstimator, TransformerMixin):\n",
    "    def __init__(self):\n",
    "        self.center = None\n",
    "    \n",
    "    def fit(self, X, y):\n",
    "        self.center = X[y].mean(axis=0)\n",
    "        return self\n",
    "    \n",
    "    def transform(self, X):\n",
    "        return np.abs(X - self.center)"
   ]
  },
  {
   "cell_type": "code",
   "execution_count": 23,
   "metadata": {},
   "outputs": [],
   "source": [
    "models = [\n",
    "    LogisticRegression(),\n",
    "    make_pipeline(RecenteringTransformer(), LogisticRegression()),\n",
    "    make_pipeline(PCA(n_components=10), LogisticRegression()),\n",
    "    # make_pipeline(PCA(n_components=50), LogisticRegression()),\n",
    "\n",
    "    RandomForestClassifier(),\n",
    "    make_pipeline(PCA(n_components=10), RandomForestClassifier()),\n",
    "    # make_pipeline(PCA(n_components=50), RandomForestClassifier()),\n",
    "\n",
    "    SVC(kernel='linear'),\n",
    "    SVC(kernel='rbf'),\n",
    "    make_pipeline(PCA(n_components=10), SVC(kernel='linear')),\n",
    "    make_pipeline(PCA(n_components=10), SVC()),\n",
    "]"
   ]
  },
  {
   "cell_type": "code",
   "execution_count": 24,
   "metadata": {},
   "outputs": [
    {
     "name": "stderr",
     "output_type": "stream",
     "text": [
      "/usr/local/Caskroom/miniconda/base/lib/python3.9/site-packages/sklearn/linear_model/_logistic.py:763: ConvergenceWarning: lbfgs failed to converge (status=1):\n",
      "STOP: TOTAL NO. of ITERATIONS REACHED LIMIT.\n",
      "\n",
      "Increase the number of iterations (max_iter) or scale the data as shown in:\n",
      "    https://scikit-learn.org/stable/modules/preprocessing.html\n",
      "Please also refer to the documentation for alternative solver options:\n",
      "    https://scikit-learn.org/stable/modules/linear_model.html#logistic-regression\n",
      "  n_iter_i = _check_optimize_result(\n",
      "/usr/local/Caskroom/miniconda/base/lib/python3.9/site-packages/sklearn/linear_model/_logistic.py:763: ConvergenceWarning: lbfgs failed to converge (status=1):\n",
      "STOP: TOTAL NO. of ITERATIONS REACHED LIMIT.\n",
      "\n",
      "Increase the number of iterations (max_iter) or scale the data as shown in:\n",
      "    https://scikit-learn.org/stable/modules/preprocessing.html\n",
      "Please also refer to the documentation for alternative solver options:\n",
      "    https://scikit-learn.org/stable/modules/linear_model.html#logistic-regression\n",
      "  n_iter_i = _check_optimize_result(\n",
      "/usr/local/Caskroom/miniconda/base/lib/python3.9/site-packages/sklearn/linear_model/_logistic.py:763: ConvergenceWarning: lbfgs failed to converge (status=1):\n",
      "STOP: TOTAL NO. of ITERATIONS REACHED LIMIT.\n",
      "\n",
      "Increase the number of iterations (max_iter) or scale the data as shown in:\n",
      "    https://scikit-learn.org/stable/modules/preprocessing.html\n",
      "Please also refer to the documentation for alternative solver options:\n",
      "    https://scikit-learn.org/stable/modules/linear_model.html#logistic-regression\n",
      "  n_iter_i = _check_optimize_result(\n",
      "/usr/local/Caskroom/miniconda/base/lib/python3.9/site-packages/sklearn/linear_model/_logistic.py:763: ConvergenceWarning: lbfgs failed to converge (status=1):\n",
      "STOP: TOTAL NO. of ITERATIONS REACHED LIMIT.\n",
      "\n",
      "Increase the number of iterations (max_iter) or scale the data as shown in:\n",
      "    https://scikit-learn.org/stable/modules/preprocessing.html\n",
      "Please also refer to the documentation for alternative solver options:\n",
      "    https://scikit-learn.org/stable/modules/linear_model.html#logistic-regression\n",
      "  n_iter_i = _check_optimize_result(\n",
      "/usr/local/Caskroom/miniconda/base/lib/python3.9/site-packages/sklearn/linear_model/_logistic.py:763: ConvergenceWarning: lbfgs failed to converge (status=1):\n",
      "STOP: TOTAL NO. of ITERATIONS REACHED LIMIT.\n",
      "\n",
      "Increase the number of iterations (max_iter) or scale the data as shown in:\n",
      "    https://scikit-learn.org/stable/modules/preprocessing.html\n",
      "Please also refer to the documentation for alternative solver options:\n",
      "    https://scikit-learn.org/stable/modules/linear_model.html#logistic-regression\n",
      "  n_iter_i = _check_optimize_result(\n",
      "/usr/local/Caskroom/miniconda/base/lib/python3.9/site-packages/sklearn/linear_model/_logistic.py:763: ConvergenceWarning: lbfgs failed to converge (status=1):\n",
      "STOP: TOTAL NO. of ITERATIONS REACHED LIMIT.\n",
      "\n",
      "Increase the number of iterations (max_iter) or scale the data as shown in:\n",
      "    https://scikit-learn.org/stable/modules/preprocessing.html\n",
      "Please also refer to the documentation for alternative solver options:\n",
      "    https://scikit-learn.org/stable/modules/linear_model.html#logistic-regression\n",
      "  n_iter_i = _check_optimize_result(\n",
      "/usr/local/Caskroom/miniconda/base/lib/python3.9/site-packages/sklearn/linear_model/_logistic.py:763: ConvergenceWarning: lbfgs failed to converge (status=1):\n",
      "STOP: TOTAL NO. of ITERATIONS REACHED LIMIT.\n",
      "\n",
      "Increase the number of iterations (max_iter) or scale the data as shown in:\n",
      "    https://scikit-learn.org/stable/modules/preprocessing.html\n",
      "Please also refer to the documentation for alternative solver options:\n",
      "    https://scikit-learn.org/stable/modules/linear_model.html#logistic-regression\n",
      "  n_iter_i = _check_optimize_result(\n",
      "/usr/local/Caskroom/miniconda/base/lib/python3.9/site-packages/sklearn/linear_model/_logistic.py:763: ConvergenceWarning: lbfgs failed to converge (status=1):\n",
      "STOP: TOTAL NO. of ITERATIONS REACHED LIMIT.\n",
      "\n",
      "Increase the number of iterations (max_iter) or scale the data as shown in:\n",
      "    https://scikit-learn.org/stable/modules/preprocessing.html\n",
      "Please also refer to the documentation for alternative solver options:\n",
      "    https://scikit-learn.org/stable/modules/linear_model.html#logistic-regression\n",
      "  n_iter_i = _check_optimize_result(\n",
      "/usr/local/Caskroom/miniconda/base/lib/python3.9/site-packages/sklearn/linear_model/_logistic.py:763: ConvergenceWarning: lbfgs failed to converge (status=1):\n",
      "STOP: TOTAL NO. of ITERATIONS REACHED LIMIT.\n",
      "\n",
      "Increase the number of iterations (max_iter) or scale the data as shown in:\n",
      "    https://scikit-learn.org/stable/modules/preprocessing.html\n",
      "Please also refer to the documentation for alternative solver options:\n",
      "    https://scikit-learn.org/stable/modules/linear_model.html#logistic-regression\n",
      "  n_iter_i = _check_optimize_result(\n",
      "/usr/local/Caskroom/miniconda/base/lib/python3.9/site-packages/sklearn/linear_model/_logistic.py:763: ConvergenceWarning: lbfgs failed to converge (status=1):\n",
      "STOP: TOTAL NO. of ITERATIONS REACHED LIMIT.\n",
      "\n",
      "Increase the number of iterations (max_iter) or scale the data as shown in:\n",
      "    https://scikit-learn.org/stable/modules/preprocessing.html\n",
      "Please also refer to the documentation for alternative solver options:\n",
      "    https://scikit-learn.org/stable/modules/linear_model.html#logistic-regression\n",
      "  n_iter_i = _check_optimize_result(\n",
      "/usr/local/Caskroom/miniconda/base/lib/python3.9/site-packages/sklearn/linear_model/_logistic.py:763: ConvergenceWarning: lbfgs failed to converge (status=1):\n",
      "STOP: TOTAL NO. of ITERATIONS REACHED LIMIT.\n",
      "\n",
      "Increase the number of iterations (max_iter) or scale the data as shown in:\n",
      "    https://scikit-learn.org/stable/modules/preprocessing.html\n",
      "Please also refer to the documentation for alternative solver options:\n",
      "    https://scikit-learn.org/stable/modules/linear_model.html#logistic-regression\n",
      "  n_iter_i = _check_optimize_result(\n",
      "/usr/local/Caskroom/miniconda/base/lib/python3.9/site-packages/sklearn/linear_model/_logistic.py:763: ConvergenceWarning: lbfgs failed to converge (status=1):\n",
      "STOP: TOTAL NO. of ITERATIONS REACHED LIMIT.\n",
      "\n",
      "Increase the number of iterations (max_iter) or scale the data as shown in:\n",
      "    https://scikit-learn.org/stable/modules/preprocessing.html\n",
      "Please also refer to the documentation for alternative solver options:\n",
      "    https://scikit-learn.org/stable/modules/linear_model.html#logistic-regression\n",
      "  n_iter_i = _check_optimize_result(\n",
      "/usr/local/Caskroom/miniconda/base/lib/python3.9/site-packages/sklearn/linear_model/_logistic.py:763: ConvergenceWarning: lbfgs failed to converge (status=1):\n",
      "STOP: TOTAL NO. of ITERATIONS REACHED LIMIT.\n",
      "\n",
      "Increase the number of iterations (max_iter) or scale the data as shown in:\n",
      "    https://scikit-learn.org/stable/modules/preprocessing.html\n",
      "Please also refer to the documentation for alternative solver options:\n",
      "    https://scikit-learn.org/stable/modules/linear_model.html#logistic-regression\n",
      "  n_iter_i = _check_optimize_result(\n",
      "/usr/local/Caskroom/miniconda/base/lib/python3.9/site-packages/sklearn/linear_model/_logistic.py:763: ConvergenceWarning: lbfgs failed to converge (status=1):\n",
      "STOP: TOTAL NO. of ITERATIONS REACHED LIMIT.\n",
      "\n",
      "Increase the number of iterations (max_iter) or scale the data as shown in:\n",
      "    https://scikit-learn.org/stable/modules/preprocessing.html\n",
      "Please also refer to the documentation for alternative solver options:\n",
      "    https://scikit-learn.org/stable/modules/linear_model.html#logistic-regression\n",
      "  n_iter_i = _check_optimize_result(\n",
      "/usr/local/Caskroom/miniconda/base/lib/python3.9/site-packages/sklearn/linear_model/_logistic.py:763: ConvergenceWarning: lbfgs failed to converge (status=1):\n",
      "STOP: TOTAL NO. of ITERATIONS REACHED LIMIT.\n",
      "\n",
      "Increase the number of iterations (max_iter) or scale the data as shown in:\n",
      "    https://scikit-learn.org/stable/modules/preprocessing.html\n",
      "Please also refer to the documentation for alternative solver options:\n",
      "    https://scikit-learn.org/stable/modules/linear_model.html#logistic-regression\n",
      "  n_iter_i = _check_optimize_result(\n"
     ]
    }
   ],
   "source": [
    "train_scores = []\n",
    "test_scores = []\n",
    "for model in models:\n",
    "    train_score, test_score = score_model(model)\n",
    "    train_scores.append(train_score)\n",
    "    test_scores.append(test_score)"
   ]
  },
  {
   "cell_type": "code",
   "execution_count": 25,
   "metadata": {},
   "outputs": [
    {
     "data": {
      "text/html": [
       "<div>\n",
       "<style scoped>\n",
       "    .dataframe tbody tr th:only-of-type {\n",
       "        vertical-align: middle;\n",
       "    }\n",
       "\n",
       "    .dataframe tbody tr th {\n",
       "        vertical-align: top;\n",
       "    }\n",
       "\n",
       "    .dataframe thead th {\n",
       "        text-align: right;\n",
       "    }\n",
       "</style>\n",
       "<table border=\"1\" class=\"dataframe\">\n",
       "  <thead>\n",
       "    <tr style=\"text-align: right;\">\n",
       "      <th></th>\n",
       "      <th>model</th>\n",
       "      <th>train</th>\n",
       "      <th>test</th>\n",
       "    </tr>\n",
       "  </thead>\n",
       "  <tbody>\n",
       "    <tr>\n",
       "      <th>0</th>\n",
       "      <td>LogisticRegression()</td>\n",
       "      <td>1.000000</td>\n",
       "      <td>0.970518</td>\n",
       "    </tr>\n",
       "    <tr>\n",
       "      <th>1</th>\n",
       "      <td>RecenteringTransformer()+LogisticRegression()</td>\n",
       "      <td>1.000000</td>\n",
       "      <td>0.977910</td>\n",
       "    </tr>\n",
       "    <tr>\n",
       "      <th>2</th>\n",
       "      <td>PCA(n_components=10)+LogisticRegression()</td>\n",
       "      <td>0.948454</td>\n",
       "      <td>0.972993</td>\n",
       "    </tr>\n",
       "    <tr>\n",
       "      <th>3</th>\n",
       "      <td>RandomForestClassifier()</td>\n",
       "      <td>1.000000</td>\n",
       "      <td>0.985272</td>\n",
       "    </tr>\n",
       "    <tr>\n",
       "      <th>4</th>\n",
       "      <td>PCA(n_components=10)+RandomForestClassifier()</td>\n",
       "      <td>1.000000</td>\n",
       "      <td>0.981047</td>\n",
       "    </tr>\n",
       "    <tr>\n",
       "      <th>5</th>\n",
       "      <td>SVC(kernel='linear')</td>\n",
       "      <td>1.000000</td>\n",
       "      <td>0.965167</td>\n",
       "    </tr>\n",
       "    <tr>\n",
       "      <th>6</th>\n",
       "      <td>SVC()</td>\n",
       "      <td>0.977583</td>\n",
       "      <td>0.984730</td>\n",
       "    </tr>\n",
       "    <tr>\n",
       "      <th>7</th>\n",
       "      <td>PCA(n_components=10)+SVC(kernel='linear')</td>\n",
       "      <td>0.951007</td>\n",
       "      <td>0.975696</td>\n",
       "    </tr>\n",
       "    <tr>\n",
       "      <th>8</th>\n",
       "      <td>PCA(n_components=10)+SVC()</td>\n",
       "      <td>0.954484</td>\n",
       "      <td>0.982484</td>\n",
       "    </tr>\n",
       "  </tbody>\n",
       "</table>\n",
       "</div>"
      ],
      "text/plain": [
       "                                           model     train      test\n",
       "0                           LogisticRegression()  1.000000  0.970518\n",
       "1  RecenteringTransformer()+LogisticRegression()  1.000000  0.977910\n",
       "2      PCA(n_components=10)+LogisticRegression()  0.948454  0.972993\n",
       "3                       RandomForestClassifier()  1.000000  0.985272\n",
       "4  PCA(n_components=10)+RandomForestClassifier()  1.000000  0.981047\n",
       "5                           SVC(kernel='linear')  1.000000  0.965167\n",
       "6                                          SVC()  0.977583  0.984730\n",
       "7      PCA(n_components=10)+SVC(kernel='linear')  0.951007  0.975696\n",
       "8                     PCA(n_components=10)+SVC()  0.954484  0.982484"
      ]
     },
     "execution_count": 25,
     "metadata": {},
     "output_type": "execute_result"
    }
   ],
   "source": [
    "def make_name(model):\n",
    "    if isinstance(model, Pipeline):\n",
    "        return \"+\".join(make_name(step) for step in model.named_steps.values())\n",
    "    else:\n",
    "        return str(model)\n",
    "\n",
    "model_names = [make_name(model) for model in models]\n",
    "scores = pd.DataFrame()\n",
    "scores[\"model\"] = model_names\n",
    "scores[\"train\"] = train_scores\n",
    "scores[\"test\"] = test_scores\n",
    "scores"
   ]
  },
  {
   "cell_type": "code",
   "execution_count": 22,
   "metadata": {},
   "outputs": [
    {
     "data": {
      "text/plain": [
       "<matplotlib.legend.Legend at 0x7f85ece3eac0>"
      ]
     },
     "execution_count": 22,
     "metadata": {},
     "output_type": "execute_result"
    },
    {
     "data": {
      "image/png": "[encoded data removed]",
      "text/plain": [
       "<Figure size 432x288 with 1 Axes>"
      ]
     },
     "metadata": {
      "needs_background": "light"
     },
     "output_type": "display_data"
    }
   ],
   "source": [
    "x_pos = np.arange(len(train_scores))\n",
    "plt.bar(x_pos, train_scores, width=0.2, label=\"train\")\n",
    "plt.bar(x_pos + 0.2, test_scores, width=0.2, label=\"test\")\n",
    "plt.xticks(x_pos, model_names, rotation=90)\n",
    "plt.legend()"
   ]
  },
  {
   "cell_type": "code",
   "execution_count": null,
   "metadata": {},
   "outputs": [],
   "source": []
  }
 ],
 "metadata": {
  "interpreter": {
   "hash": "c30f2af5f468e7f5b45bcc30fca5f4886c90d54777aed916ed5f6294dfb24bf2"
  },
  "kernelspec": {
   "display_name": "Python 3.9.5 ('base')",
   "language": "python",
   "name": "python3"
  },
  "language_info": {
   "codemirror_mode": {
    "name": "ipython",
    "version": 3
   },
   "file_extension": ".py",
   "mimetype": "text/x-python",
   "name": "python",
   "nbconvert_exporter": "python",
   "pygments_lexer": "ipython3",
   "version": "3.9.5"
  },
  "orig_nbformat": 4
 },
 "nbformat": 4,
 "nbformat_minor": 2
}
