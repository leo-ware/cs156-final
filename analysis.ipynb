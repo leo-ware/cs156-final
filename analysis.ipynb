{
 "cells": [
  {
   "cell_type": "code",
   "execution_count": 27,
   "metadata": {},
   "outputs": [],
   "source": [
    "import pandas as pd\n",
    "import numpy as np\n",
    "import matplotlib.pyplot as plt\n",
    "from scipy import stats"
   ]
  },
  {
   "cell_type": "code",
   "execution_count": 28,
   "metadata": {},
   "outputs": [
    {
     "data": {
      "text/html": [
       "<div>\n",
       "<style scoped>\n",
       "    .dataframe tbody tr th:only-of-type {\n",
       "        vertical-align: middle;\n",
       "    }\n",
       "\n",
       "    .dataframe tbody tr th {\n",
       "        vertical-align: top;\n",
       "    }\n",
       "\n",
       "    .dataframe thead th {\n",
       "        text-align: right;\n",
       "    }\n",
       "</style>\n",
       "<table border=\"1\" class=\"dataframe\">\n",
       "  <thead>\n",
       "    <tr style=\"text-align: right;\">\n",
       "      <th></th>\n",
       "      <th>Unnamed: 0</th>\n",
       "      <th>model</th>\n",
       "      <th>n_reference_groups</th>\n",
       "      <th>n_positive</th>\n",
       "      <th>n_negative</th>\n",
       "      <th>train_accuracy</th>\n",
       "      <th>test_accuracy</th>\n",
       "      <th>precision</th>\n",
       "      <th>recall</th>\n",
       "      <th>training_time</th>\n",
       "      <th>inference_time</th>\n",
       "      <th>embedding</th>\n",
       "    </tr>\n",
       "  </thead>\n",
       "  <tbody>\n",
       "    <tr>\n",
       "      <th>0</th>\n",
       "      <td>0</td>\n",
       "      <td>DummyClassifier(constant=0, strategy='constant')</td>\n",
       "      <td>60</td>\n",
       "      <td>5</td>\n",
       "      <td>5</td>\n",
       "      <td>0.500000</td>\n",
       "      <td>0.952381</td>\n",
       "      <td>0.000000</td>\n",
       "      <td>0.000000</td>\n",
       "      <td>0.000206</td>\n",
       "      <td>0.000119</td>\n",
       "      <td>pca_10</td>\n",
       "    </tr>\n",
       "    <tr>\n",
       "      <th>1</th>\n",
       "      <td>1</td>\n",
       "      <td>LogisticRegression()</td>\n",
       "      <td>60</td>\n",
       "      <td>5</td>\n",
       "      <td>5</td>\n",
       "      <td>0.996667</td>\n",
       "      <td>0.656825</td>\n",
       "      <td>0.135273</td>\n",
       "      <td>0.823333</td>\n",
       "      <td>0.009781</td>\n",
       "      <td>0.000249</td>\n",
       "      <td>pca_10</td>\n",
       "    </tr>\n",
       "    <tr>\n",
       "      <th>2</th>\n",
       "      <td>2</td>\n",
       "      <td>RidgeClassifier()</td>\n",
       "      <td>60</td>\n",
       "      <td>5</td>\n",
       "      <td>5</td>\n",
       "      <td>0.996667</td>\n",
       "      <td>0.599683</td>\n",
       "      <td>0.092908</td>\n",
       "      <td>0.730000</td>\n",
       "      <td>0.002700</td>\n",
       "      <td>0.000245</td>\n",
       "      <td>pca_10</td>\n",
       "    </tr>\n",
       "    <tr>\n",
       "      <th>3</th>\n",
       "      <td>3</td>\n",
       "      <td>SVC()</td>\n",
       "      <td>60</td>\n",
       "      <td>5</td>\n",
       "      <td>5</td>\n",
       "      <td>0.985000</td>\n",
       "      <td>0.747778</td>\n",
       "      <td>0.191236</td>\n",
       "      <td>0.810000</td>\n",
       "      <td>0.000522</td>\n",
       "      <td>0.000479</td>\n",
       "      <td>pca_10</td>\n",
       "    </tr>\n",
       "    <tr>\n",
       "      <th>4</th>\n",
       "      <td>4</td>\n",
       "      <td>RandomForestClassifier()</td>\n",
       "      <td>60</td>\n",
       "      <td>5</td>\n",
       "      <td>5</td>\n",
       "      <td>1.000000</td>\n",
       "      <td>0.663968</td>\n",
       "      <td>0.134011</td>\n",
       "      <td>0.813333</td>\n",
       "      <td>0.154032</td>\n",
       "      <td>0.027675</td>\n",
       "      <td>pca_10</td>\n",
       "    </tr>\n",
       "  </tbody>\n",
       "</table>\n",
       "</div>"
      ],
      "text/plain": [
       "   Unnamed: 0                                             model  \\\n",
       "0           0  DummyClassifier(constant=0, strategy='constant')   \n",
       "1           1                              LogisticRegression()   \n",
       "2           2                                 RidgeClassifier()   \n",
       "3           3                                             SVC()   \n",
       "4           4                          RandomForestClassifier()   \n",
       "\n",
       "   n_reference_groups  n_positive  n_negative  train_accuracy  test_accuracy  \\\n",
       "0                  60           5           5        0.500000       0.952381   \n",
       "1                  60           5           5        0.996667       0.656825   \n",
       "2                  60           5           5        0.996667       0.599683   \n",
       "3                  60           5           5        0.985000       0.747778   \n",
       "4                  60           5           5        1.000000       0.663968   \n",
       "\n",
       "   precision    recall  training_time  inference_time embedding  \n",
       "0   0.000000  0.000000       0.000206        0.000119    pca_10  \n",
       "1   0.135273  0.823333       0.009781        0.000249    pca_10  \n",
       "2   0.092908  0.730000       0.002700        0.000245    pca_10  \n",
       "3   0.191236  0.810000       0.000522        0.000479    pca_10  \n",
       "4   0.134011  0.813333       0.154032        0.027675    pca_10  "
      ]
     },
     "execution_count": 28,
     "metadata": {},
     "output_type": "execute_result"
    }
   ],
   "source": [
    "data = pd.read_csv('results/supervised.csv')\n",
    "data.head()"
   ]
  },
  {
   "cell_type": "markdown",
   "metadata": {},
   "source": [
    "# Accuracy"
   ]
  },
  {
   "cell_type": "code",
   "execution_count": 29,
   "metadata": {},
   "outputs": [
    {
     "data": {
      "text/plain": [
       "array([[<AxesSubplot:title={'center':'train_accuracy'}>,\n",
       "        <AxesSubplot:title={'center':'test_accuracy'}>],\n",
       "       [<AxesSubplot:title={'center':'precision'}>,\n",
       "        <AxesSubplot:title={'center':'recall'}>]], dtype=object)"
      ]
     },
     "execution_count": 29,
     "metadata": {},
     "output_type": "execute_result"
    },
    {
     "data": {
      "image/png": "[encoded data removed]",
      "text/plain": [
       "<Figure size 432x288 with 4 Axes>"
      ]
     },
     "metadata": {
      "needs_background": "light"
     },
     "output_type": "display_data"
    }
   ],
   "source": [
    "data[[\"train_accuracy\", \"test_accuracy\", \"precision\", \"recall\"]].hist()"
   ]
  },
  {
   "cell_type": "markdown",
   "metadata": {},
   "source": [
    "So, when it comes to test accuracy, we're talking between 0.6 and 0.8."
   ]
  },
  {
   "cell_type": "markdown",
   "metadata": {},
   "source": [
    "# Speed"
   ]
  },
  {
   "cell_type": "code",
   "execution_count": 30,
   "metadata": {},
   "outputs": [
    {
     "data": {
      "text/html": [
       "<div>\n",
       "<style scoped>\n",
       "    .dataframe tbody tr th:only-of-type {\n",
       "        vertical-align: middle;\n",
       "    }\n",
       "\n",
       "    .dataframe tbody tr th {\n",
       "        vertical-align: top;\n",
       "    }\n",
       "\n",
       "    .dataframe thead th {\n",
       "        text-align: right;\n",
       "    }\n",
       "</style>\n",
       "<table border=\"1\" class=\"dataframe\">\n",
       "  <thead>\n",
       "    <tr style=\"text-align: right;\">\n",
       "      <th></th>\n",
       "      <th></th>\n",
       "      <th>training_time</th>\n",
       "      <th>inference_time</th>\n",
       "    </tr>\n",
       "    <tr>\n",
       "      <th>model</th>\n",
       "      <th>embedding</th>\n",
       "      <th></th>\n",
       "      <th></th>\n",
       "    </tr>\n",
       "  </thead>\n",
       "  <tbody>\n",
       "    <tr>\n",
       "      <th rowspan=\"3\" valign=\"top\">DummyClassifier(constant=0, strategy='constant')</th>\n",
       "      <th>pca_10</th>\n",
       "      <td>0.000164</td>\n",
       "      <td>0.000084</td>\n",
       "    </tr>\n",
       "    <tr>\n",
       "      <th>pca_50</th>\n",
       "      <td>0.000145</td>\n",
       "      <td>0.000074</td>\n",
       "    </tr>\n",
       "    <tr>\n",
       "      <th>specter</th>\n",
       "      <td>0.000213</td>\n",
       "      <td>0.000093</td>\n",
       "    </tr>\n",
       "    <tr>\n",
       "      <th rowspan=\"3\" valign=\"top\">KNeighborsClassifier(n_neighbors=3)</th>\n",
       "      <th>pca_10</th>\n",
       "      <td>0.000439</td>\n",
       "      <td>0.005729</td>\n",
       "    </tr>\n",
       "    <tr>\n",
       "      <th>pca_50</th>\n",
       "      <td>0.000237</td>\n",
       "      <td>0.004987</td>\n",
       "    </tr>\n",
       "    <tr>\n",
       "      <th>specter</th>\n",
       "      <td>0.000336</td>\n",
       "      <td>0.006731</td>\n",
       "    </tr>\n",
       "    <tr>\n",
       "      <th rowspan=\"3\" valign=\"top\">LogisticRegression()</th>\n",
       "      <th>pca_10</th>\n",
       "      <td>0.008861</td>\n",
       "      <td>0.000211</td>\n",
       "    </tr>\n",
       "    <tr>\n",
       "      <th>pca_50</th>\n",
       "      <td>0.008485</td>\n",
       "      <td>0.000228</td>\n",
       "    </tr>\n",
       "    <tr>\n",
       "      <th>specter</th>\n",
       "      <td>0.014170</td>\n",
       "      <td>0.000570</td>\n",
       "    </tr>\n",
       "    <tr>\n",
       "      <th rowspan=\"3\" valign=\"top\">RandomForestClassifier()</th>\n",
       "      <th>pca_10</th>\n",
       "      <td>0.137702</td>\n",
       "      <td>0.024534</td>\n",
       "    </tr>\n",
       "    <tr>\n",
       "      <th>pca_50</th>\n",
       "      <td>0.129868</td>\n",
       "      <td>0.021793</td>\n",
       "    </tr>\n",
       "    <tr>\n",
       "      <th>specter</th>\n",
       "      <td>0.146227</td>\n",
       "      <td>0.025157</td>\n",
       "    </tr>\n",
       "    <tr>\n",
       "      <th rowspan=\"3\" valign=\"top\">RidgeClassifier()</th>\n",
       "      <th>pca_10</th>\n",
       "      <td>0.001855</td>\n",
       "      <td>0.000207</td>\n",
       "    </tr>\n",
       "    <tr>\n",
       "      <th>pca_50</th>\n",
       "      <td>0.001705</td>\n",
       "      <td>0.000204</td>\n",
       "    </tr>\n",
       "    <tr>\n",
       "      <th>specter</th>\n",
       "      <td>0.002395</td>\n",
       "      <td>0.000605</td>\n",
       "    </tr>\n",
       "    <tr>\n",
       "      <th rowspan=\"3\" valign=\"top\">SVC()</th>\n",
       "      <th>pca_10</th>\n",
       "      <td>0.000521</td>\n",
       "      <td>0.000657</td>\n",
       "    </tr>\n",
       "    <tr>\n",
       "      <th>pca_50</th>\n",
       "      <td>0.000492</td>\n",
       "      <td>0.000981</td>\n",
       "    </tr>\n",
       "    <tr>\n",
       "      <th>specter</th>\n",
       "      <td>0.000699</td>\n",
       "      <td>0.002023</td>\n",
       "    </tr>\n",
       "  </tbody>\n",
       "</table>\n",
       "</div>"
      ],
      "text/plain": [
       "                                                            training_time  \\\n",
       "model                                            embedding                  \n",
       "DummyClassifier(constant=0, strategy='constant') pca_10          0.000164   \n",
       "                                                 pca_50          0.000145   \n",
       "                                                 specter         0.000213   \n",
       "KNeighborsClassifier(n_neighbors=3)              pca_10          0.000439   \n",
       "                                                 pca_50          0.000237   \n",
       "                                                 specter         0.000336   \n",
       "LogisticRegression()                             pca_10          0.008861   \n",
       "                                                 pca_50          0.008485   \n",
       "                                                 specter         0.014170   \n",
       "RandomForestClassifier()                         pca_10          0.137702   \n",
       "                                                 pca_50          0.129868   \n",
       "                                                 specter         0.146227   \n",
       "RidgeClassifier()                                pca_10          0.001855   \n",
       "                                                 pca_50          0.001705   \n",
       "                                                 specter         0.002395   \n",
       "SVC()                                            pca_10          0.000521   \n",
       "                                                 pca_50          0.000492   \n",
       "                                                 specter         0.000699   \n",
       "\n",
       "                                                            inference_time  \n",
       "model                                            embedding                  \n",
       "DummyClassifier(constant=0, strategy='constant') pca_10           0.000084  \n",
       "                                                 pca_50           0.000074  \n",
       "                                                 specter          0.000093  \n",
       "KNeighborsClassifier(n_neighbors=3)              pca_10           0.005729  \n",
       "                                                 pca_50           0.004987  \n",
       "                                                 specter          0.006731  \n",
       "LogisticRegression()                             pca_10           0.000211  \n",
       "                                                 pca_50           0.000228  \n",
       "                                                 specter          0.000570  \n",
       "RandomForestClassifier()                         pca_10           0.024534  \n",
       "                                                 pca_50           0.021793  \n",
       "                                                 specter          0.025157  \n",
       "RidgeClassifier()                                pca_10           0.000207  \n",
       "                                                 pca_50           0.000204  \n",
       "                                                 specter          0.000605  \n",
       "SVC()                                            pca_10           0.000657  \n",
       "                                                 pca_50           0.000981  \n",
       "                                                 specter          0.002023  "
      ]
     },
     "execution_count": 30,
     "metadata": {},
     "output_type": "execute_result"
    }
   ],
   "source": [
    "data.groupby(['model', 'embedding'])[[\"training_time\", \"inference_time\"]].mean()"
   ]
  },
  {
   "cell_type": "markdown",
   "metadata": {},
   "source": [
    "Logistic regression and SVC are both hurt by the dimensionality at inference time, but they are both so much faster than random forest that it barely matters.\n",
    "\n",
    "Btw these numbers don't have any inherent meaning they're just relative values."
   ]
  },
  {
   "cell_type": "code",
   "execution_count": 10,
   "metadata": {},
   "outputs": [
    {
     "data": {
      "text/plain": [
       "array([10, 20, 40])"
      ]
     },
     "execution_count": 10,
     "metadata": {},
     "output_type": "execute_result"
    }
   ],
   "source": [
    "data['n_examples'] = data.n_positive + data.n_negative\n",
    "np.unique(data.n_examples)"
   ]
  },
  {
   "cell_type": "code",
   "execution_count": null,
   "metadata": {},
   "outputs": [],
   "source": []
  }
 ],
 "metadata": {
  "interpreter": {
   "hash": "c30f2af5f468e7f5b45bcc30fca5f4886c90d54777aed916ed5f6294dfb24bf2"
  },
  "kernelspec": {
   "display_name": "Python 3.9.5 ('base')",
   "language": "python",
   "name": "python3"
  },
  "language_info": {
   "codemirror_mode": {
    "name": "ipython",
    "version": 3
   },
   "file_extension": ".py",
   "mimetype": "text/x-python",
   "name": "python",
   "nbconvert_exporter": "python",
   "pygments_lexer": "ipython3",
   "version": "3.9.5"
  },
  "orig_nbformat": 4
 },
 "nbformat": 4,
 "nbformat_minor": 2
}
