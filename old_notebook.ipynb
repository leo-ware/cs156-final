{
 "cells": [
  {
   "cell_type": "code",
   "execution_count": 1,
   "metadata": {},
   "outputs": [],
   "source": [
    "import pandas as pd\n",
    "import numpy as np\n",
    "import matplotlib.pyplot as plt\n",
    "from matplotlib.patches import Patch\n",
    "\n",
    "from sklearn.model_selection import train_test_split\n",
    "from sklearn.linear_model import LogisticRegression\n",
    "from sklearn.metrics import confusion_matrix"
   ]
  },
  {
   "cell_type": "code",
   "execution_count": 3,
   "metadata": {},
   "outputs": [
    {
     "data": {
      "text/html": [
       "<div>\n",
       "<style scoped>\n",
       "    .dataframe tbody tr th:only-of-type {\n",
       "        vertical-align: middle;\n",
       "    }\n",
       "\n",
       "    .dataframe tbody tr th {\n",
       "        vertical-align: top;\n",
       "    }\n",
       "\n",
       "    .dataframe thead th {\n",
       "        text-align: right;\n",
       "    }\n",
       "</style>\n",
       "<table border=\"1\" class=\"dataframe\">\n",
       "  <thead>\n",
       "    <tr style=\"text-align: right;\">\n",
       "      <th></th>\n",
       "      <th>source</th>\n",
       "      <th>target</th>\n",
       "    </tr>\n",
       "  </thead>\n",
       "  <tbody>\n",
       "    <tr>\n",
       "      <th>0</th>\n",
       "      <td>94ac58d1b6132b07ef66c47af8bd506bdb67e0c3</td>\n",
       "      <td>09895f8b8e38dba2d62d742541778c97c91d97ce</td>\n",
       "    </tr>\n",
       "    <tr>\n",
       "      <th>1</th>\n",
       "      <td>94ac58d1b6132b07ef66c47af8bd506bdb67e0c3</td>\n",
       "      <td>0cb85c72ea11c067adbdf47e006cd51bd3065ea5</td>\n",
       "    </tr>\n",
       "    <tr>\n",
       "      <th>2</th>\n",
       "      <td>94ac58d1b6132b07ef66c47af8bd506bdb67e0c3</td>\n",
       "      <td>12463ae88245b865eaa11ef632132fb90d187a34</td>\n",
       "    </tr>\n",
       "    <tr>\n",
       "      <th>3</th>\n",
       "      <td>94ac58d1b6132b07ef66c47af8bd506bdb67e0c3</td>\n",
       "      <td>1f089bb17a848f6cf6d90da330352928cd6a4045</td>\n",
       "    </tr>\n",
       "    <tr>\n",
       "      <th>4</th>\n",
       "      <td>94ac58d1b6132b07ef66c47af8bd506bdb67e0c3</td>\n",
       "      <td>26ae952599aa9ba5815a80356024258247fc2b10</td>\n",
       "    </tr>\n",
       "  </tbody>\n",
       "</table>\n",
       "</div>"
      ],
      "text/plain": [
       "                                     source  \\\n",
       "0  94ac58d1b6132b07ef66c47af8bd506bdb67e0c3   \n",
       "1  94ac58d1b6132b07ef66c47af8bd506bdb67e0c3   \n",
       "2  94ac58d1b6132b07ef66c47af8bd506bdb67e0c3   \n",
       "3  94ac58d1b6132b07ef66c47af8bd506bdb67e0c3   \n",
       "4  94ac58d1b6132b07ef66c47af8bd506bdb67e0c3   \n",
       "\n",
       "                                     target  \n",
       "0  09895f8b8e38dba2d62d742541778c97c91d97ce  \n",
       "1  0cb85c72ea11c067adbdf47e006cd51bd3065ea5  \n",
       "2  12463ae88245b865eaa11ef632132fb90d187a34  \n",
       "3  1f089bb17a848f6cf6d90da330352928cd6a4045  \n",
       "4  26ae952599aa9ba5815a80356024258247fc2b10  "
      ]
     },
     "execution_count": 3,
     "metadata": {},
     "output_type": "execute_result"
    }
   ],
   "source": [
    "citations = pd.read_csv(\"old_citations.csv\")\n",
    "citations.head()"
   ]
  },
  {
   "cell_type": "code",
   "execution_count": 4,
   "metadata": {},
   "outputs": [
    {
     "data": {
      "text/html": [
       "<div>\n",
       "<style scoped>\n",
       "    .dataframe tbody tr th:only-of-type {\n",
       "        vertical-align: middle;\n",
       "    }\n",
       "\n",
       "    .dataframe tbody tr th {\n",
       "        vertical-align: top;\n",
       "    }\n",
       "\n",
       "    .dataframe thead th {\n",
       "        text-align: right;\n",
       "    }\n",
       "</style>\n",
       "<table border=\"1\" class=\"dataframe\">\n",
       "  <thead>\n",
       "    <tr style=\"text-align: right;\">\n",
       "      <th></th>\n",
       "      <th>paperId</th>\n",
       "      <th>title</th>\n",
       "      <th>embedding</th>\n",
       "    </tr>\n",
       "  </thead>\n",
       "  <tbody>\n",
       "    <tr>\n",
       "      <th>0</th>\n",
       "      <td>60fa56348f34b154b153322ad7322d0dc2943b52</td>\n",
       "      <td>Tree and spline based association analysis of ...</td>\n",
       "      <td>[-2.880059242248535, -5.015457630157471, -1.99...</td>\n",
       "    </tr>\n",
       "    <tr>\n",
       "      <th>1</th>\n",
       "      <td>d64a1588bc3dacfeacf39ff1fa543c6832e051e2</td>\n",
       "      <td>Optimally combining sampling techniques for Mo...</td>\n",
       "      <td>[-2.3202474117279053, -1.4120348691940308, 0.3...</td>\n",
       "    </tr>\n",
       "    <tr>\n",
       "      <th>2</th>\n",
       "      <td>5c54fa8123e1e73cad9a2bd313588985cef5a5ea</td>\n",
       "      <td>Detecting gene–gene interactions that underlie...</td>\n",
       "      <td>[-2.3627116680145264, -6.266533851623535, 0.87...</td>\n",
       "    </tr>\n",
       "    <tr>\n",
       "      <th>3</th>\n",
       "      <td>7582eecc3747f784151e3043ae2edae3e1cd4825</td>\n",
       "      <td>A genetic programming-based approach to the cl...</td>\n",
       "      <td>[0.2626941204071045, -3.9721202850341797, -2.2...</td>\n",
       "    </tr>\n",
       "    <tr>\n",
       "      <th>4</th>\n",
       "      <td>75eabf87520b2f8a6258a849db6efa4b3caec6ea</td>\n",
       "      <td>Which tone-mapping operator is the best? A com...</td>\n",
       "      <td>[-1.3394620418548584, -6.056660175323486, -2.3...</td>\n",
       "    </tr>\n",
       "  </tbody>\n",
       "</table>\n",
       "</div>"
      ],
      "text/plain": [
       "                                    paperId  \\\n",
       "0  60fa56348f34b154b153322ad7322d0dc2943b52   \n",
       "1  d64a1588bc3dacfeacf39ff1fa543c6832e051e2   \n",
       "2  5c54fa8123e1e73cad9a2bd313588985cef5a5ea   \n",
       "3  7582eecc3747f784151e3043ae2edae3e1cd4825   \n",
       "4  75eabf87520b2f8a6258a849db6efa4b3caec6ea   \n",
       "\n",
       "                                               title  \\\n",
       "0  Tree and spline based association analysis of ...   \n",
       "1  Optimally combining sampling techniques for Mo...   \n",
       "2  Detecting gene–gene interactions that underlie...   \n",
       "3  A genetic programming-based approach to the cl...   \n",
       "4  Which tone-mapping operator is the best? A com...   \n",
       "\n",
       "                                           embedding  \n",
       "0  [-2.880059242248535, -5.015457630157471, -1.99...  \n",
       "1  [-2.3202474117279053, -1.4120348691940308, 0.3...  \n",
       "2  [-2.3627116680145264, -6.266533851623535, 0.87...  \n",
       "3  [0.2626941204071045, -3.9721202850341797, -2.2...  \n",
       "4  [-1.3394620418548584, -6.056660175323486, -2.3...  "
      ]
     },
     "execution_count": 4,
     "metadata": {},
     "output_type": "execute_result"
    }
   ],
   "source": [
    "paper_data = pd.read_csv(\"old_paper_data.csv\")\n",
    "paper_data.embedding = paper_data.embedding.apply(eval).apply(np.array)\n",
    "paper_data.head()"
   ]
  },
  {
   "cell_type": "code",
   "execution_count": 5,
   "metadata": {},
   "outputs": [
    {
     "ename": "IndexError",
     "evalue": "index 0 is out of bounds for axis 0 with size 0",
     "output_type": "error",
     "traceback": [
      "\u001b[0;31m---------------------------------------------------------------------------\u001b[0m",
      "\u001b[0;31mIndexError\u001b[0m                                Traceback (most recent call last)",
      "\u001b[1;32m/Users/leoware/Documents/Assignments/cs156 final/notebook.ipynb Cell 4'\u001b[0m in \u001b[0;36m<cell line: 2>\u001b[0;34m()\u001b[0m\n\u001b[1;32m      <a href='vscode-notebook-cell:/Users/leoware/Documents/Assignments/cs156%20final/notebook.ipynb#ch0000003?line=0'>1</a>\u001b[0m og \u001b[39m=\u001b[39m citations\u001b[39m.\u001b[39msource[\u001b[39m0\u001b[39m]\n\u001b[0;32m----> <a href='vscode-notebook-cell:/Users/leoware/Documents/Assignments/cs156%20final/notebook.ipynb#ch0000003?line=1'>2</a>\u001b[0m og_embedding \u001b[39m=\u001b[39m paper_data\u001b[39m.\u001b[39;49membedding[paper_data\u001b[39m.\u001b[39;49mpaperId \u001b[39m==\u001b[39;49m og]\u001b[39m.\u001b[39;49mvalues[\u001b[39m0\u001b[39;49m]\n\u001b[1;32m      <a href='vscode-notebook-cell:/Users/leoware/Documents/Assignments/cs156%20final/notebook.ipynb#ch0000003?line=3'>4</a>\u001b[0m reference_embeddings \u001b[39m=\u001b[39m pd\u001b[39m.\u001b[39mmerge(citations, paper_data, left_on\u001b[39m=\u001b[39m\u001b[39m\"\u001b[39m\u001b[39mtarget\u001b[39m\u001b[39m\"\u001b[39m, right_on\u001b[39m=\u001b[39m\u001b[39m\"\u001b[39m\u001b[39mpaperId\u001b[39m\u001b[39m\"\u001b[39m)[[\u001b[39m\"\u001b[39m\u001b[39msource\u001b[39m\u001b[39m\"\u001b[39m, \u001b[39m\"\u001b[39m\u001b[39membedding\u001b[39m\u001b[39m\"\u001b[39m]]\n\u001b[1;32m      <a href='vscode-notebook-cell:/Users/leoware/Documents/Assignments/cs156%20final/notebook.ipynb#ch0000003?line=4'>5</a>\u001b[0m relevant \u001b[39m=\u001b[39m np\u001b[39m.\u001b[39marray(reference_embeddings\u001b[39m.\u001b[39msource \u001b[39m==\u001b[39m og)\n",
      "\u001b[0;31mIndexError\u001b[0m: index 0 is out of bounds for axis 0 with size 0"
     ]
    }
   ],
   "source": [
    "og = citations.source[0]\n",
    "og_embedding = paper_data.embedding[paper_data.paperId == og].values[0]\n",
    "\n",
    "reference_embeddings = pd.merge(citations, paper_data, left_on=\"target\", right_on=\"paperId\")[[\"source\", \"embedding\"]]\n",
    "relevant = np.array(reference_embeddings.source == og)\n",
    "embeddings = np.vstack(reference_embeddings.embedding.values)\n",
    "\n",
    "print(relevant.shape)\n",
    "print(embeddings.shape)\n",
    "\n",
    "reference_embeddings"
   ]
  },
  {
   "cell_type": "code",
   "execution_count": 145,
   "metadata": {},
   "outputs": [
    {
     "name": "stdout",
     "output_type": "stream",
     "text": [
      "train score 1.0\n",
      "test score 0.967741935483871\n",
      "base rate 0.8506493506493507\n",
      "\n",
      "n_train_relevant: 37\n",
      "n_train_irrelevant: 209\n",
      "n_test_relevant: 9\n",
      "n_test_irrelevant: 53\n",
      "\n",
      "test confusion matrix\n",
      "[[52  1]\n",
      " [ 1  8]]\n"
     ]
    },
    {
     "name": "stderr",
     "output_type": "stream",
     "text": [
      "/usr/local/Caskroom/miniconda/base/lib/python3.9/site-packages/sklearn/linear_model/_logistic.py:763: ConvergenceWarning: lbfgs failed to converge (status=1):\n",
      "STOP: TOTAL NO. of ITERATIONS REACHED LIMIT.\n",
      "\n",
      "Increase the number of iterations (max_iter) or scale the data as shown in:\n",
      "    https://scikit-learn.org/stable/modules/preprocessing.html\n",
      "Please also refer to the documentation for alternative solver options:\n",
      "    https://scikit-learn.org/stable/modules/linear_model.html#logistic-regression\n",
      "  n_iter_i = _check_optimize_result(\n"
     ]
    }
   ],
   "source": [
    "x, x_test, y, y_test = train_test_split(embeddings, relevant, test_size=0.2, random_state=42, stratify=relevant)\n",
    "model = LogisticRegression()\n",
    "model.fit(x, y)\n",
    "print(\"train score\", model.score(x, y))\n",
    "print(\"test score\", model.score(x_test, y_test))\n",
    "print(\"base rate\", 1 - relevant.mean())\n",
    "\n",
    "print()\n",
    "print(\"n_train_relevant:\", y.sum())\n",
    "print(\"n_train_irrelevant:\", (~y).sum())\n",
    "print(\"n_test_relevant:\", y_test.sum())\n",
    "print(\"n_test_irrelevant:\", (~y_test).sum())\n",
    "\n",
    "print(\"\\ntest confusion matrix\")\n",
    "print(confusion_matrix(y_test, model.predict(x_test)))"
   ]
  },
  {
   "cell_type": "code",
   "execution_count": 154,
   "metadata": {},
   "outputs": [
    {
     "name": "stdout",
     "output_type": "stream",
     "text": [
      "train score 1.0\n",
      "test score 0.9193548387096774\n",
      "base rate 0.8506493506493507\n"
     ]
    },
    {
     "name": "stderr",
     "output_type": "stream",
     "text": [
      "/usr/local/Caskroom/miniconda/base/lib/python3.9/site-packages/sklearn/linear_model/_logistic.py:763: ConvergenceWarning: lbfgs failed to converge (status=1):\n",
      "STOP: TOTAL NO. of ITERATIONS REACHED LIMIT.\n",
      "\n",
      "Increase the number of iterations (max_iter) or scale the data as shown in:\n",
      "    https://scikit-learn.org/stable/modules/preprocessing.html\n",
      "Please also refer to the documentation for alternative solver options:\n",
      "    https://scikit-learn.org/stable/modules/linear_model.html#logistic-regression\n",
      "  n_iter_i = _check_optimize_result(\n"
     ]
    }
   ],
   "source": [
    "x, x_test, y, y_test = train_test_split(np.abs(embeddings - og_embedding), relevant, test_size=0.2, random_state=42, stratify=relevant)\n",
    "model = LogisticRegression()\n",
    "model.fit(x, y)\n",
    "print(\"train score\", model.score(x, y))\n",
    "print(\"test score\", model.score(x_test, y_test))\n",
    "print(\"base rate\", 1 - relevant.mean())"
   ]
  },
  {
   "cell_type": "code",
   "execution_count": 146,
   "metadata": {},
   "outputs": [
    {
     "data": {
      "image/png": "[encoded data removed]",
      "text/plain": [
       "<Figure size 432x288 with 1 Axes>"
      ]
     },
     "metadata": {
      "needs_background": "light"
     },
     "output_type": "display_data"
    }
   ],
   "source": [
    "good = []\n",
    "bad = []\n",
    "\n",
    "for source_paper in np.unique(citations.source):\n",
    "    source_embedding = paper_data.embedding[paper_data.paperId == source_paper].values[0]\n",
    "    distances = np.linalg.norm(embeddings - source_embedding, axis=1)\n",
    "    good.extend(distances[reference_embeddings.source == source_paper])\n",
    "    bad.extend(distances[reference_embeddings.source != source_paper])\n",
    "\n",
    "good = np.array(good)\n",
    "bad = np.array(bad)\n",
    "\n",
    "plt.hist(good, bins=30, alpha=0.3, label=\"relevant\", density=True)\n",
    "plt.hist(bad, bins=30, alpha=0.3, label=\"not relevant\", density=True)\n",
    "plt.legend()\n",
    "plt.title(\"Distribution of Semantic Distances (l2-norm)\")\n",
    "plt.show()"
   ]
  },
  {
   "cell_type": "code",
   "execution_count": 153,
   "metadata": {},
   "outputs": [
    {
     "data": {
      "image/png": "[encoded data removed]",
      "text/plain": [
       "<Figure size 432x288 with 1 Axes>"
      ]
     },
     "metadata": {
      "needs_background": "light"
     },
     "output_type": "display_data"
    }
   ],
   "source": [
    "plt.hist(good**2, bins=30, alpha=0.3, label=\"relevant\", density=True)\n",
    "plt.hist(bad**2, bins=30, alpha=0.3, label=\"not relevant\", density=True)\n",
    "plt.legend()\n",
    "plt.title(\"Distribution of Semantic Distances (squared l2-norm)\")\n",
    "plt.show()"
   ]
  },
  {
   "cell_type": "code",
   "execution_count": 155,
   "metadata": {},
   "outputs": [
    {
     "data": {
      "image/png": "[encoded data removed]",
      "text/plain": [
       "<Figure size 432x288 with 1 Axes>"
      ]
     },
     "metadata": {
      "needs_background": "light"
     },
     "output_type": "display_data"
    }
   ],
   "source": [
    "plt.figure(figsize=(6, 4))\n",
    "\n",
    "for source_paper in np.unique(citations.source):\n",
    "    source_embedding = paper_data.embedding[paper_data.paperId == source_paper].values[0]\n",
    "    distances = np.linalg.norm(embeddings - source_embedding, axis=1)\n",
    "    relevant_here = reference_embeddings.source == source_paper\n",
    "\n",
    "    dist_sort = np.argsort(distances)\n",
    "    relevant_sorted = relevant_here[dist_sort]\n",
    "\n",
    "    precision = np.cumsum(relevant_sorted) / (np.arange(len(relevant_sorted)) + 1)\n",
    "    recall = np.cumsum(relevant_sorted) / relevant_sorted.sum()\n",
    "\n",
    "    plt.plot(distances[dist_sort], precision, color=\"red\")\n",
    "    plt.plot(distances[dist_sort], recall, color=\"black\")\n",
    "\n",
    "plt.legend(handles=[Patch(color=\"red\", label=\"precision (correct/got)\"), Patch(color=\"black\", label=\"recall (got/correct)\")])\n",
    "plt.title(\"Precision and Recall for Expanding Sphere\")\n",
    "plt.xlabel(\"Acceptance Threshold (l2-norm)\")\n",
    "plt.show()"
   ]
  },
  {
   "cell_type": "code",
   "execution_count": null,
   "metadata": {},
   "outputs": [],
   "source": []
  }
 ],
 "metadata": {
  "interpreter": {
   "hash": "c30f2af5f468e7f5b45bcc30fca5f4886c90d54777aed916ed5f6294dfb24bf2"
  },
  "kernelspec": {
   "display_name": "Python 3.9.5 ('base')",
   "language": "python",
   "name": "python3"
  },
  "language_info": {
   "codemirror_mode": {
    "name": "ipython",
    "version": 3
   },
   "file_extension": ".py",
   "mimetype": "text/x-python",
   "name": "python",
   "nbconvert_exporter": "python",
   "pygments_lexer": "ipython3",
   "version": "3.9.5"
  },
  "orig_nbformat": 4
 },
 "nbformat": 4,
 "nbformat_minor": 2
}
