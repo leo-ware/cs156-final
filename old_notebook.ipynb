{
 "cells": [
  {
   "cell_type": "code",
   "execution_count": 1,
   "metadata": {},
   "outputs": [],
   "source": [
    "import pandas as pd\n",
    "import numpy as np\n",
    "import matplotlib.pyplot as plt\n",
    "from matplotlib.patches import Patch"
   ]
  },
  {
   "cell_type": "code",
   "execution_count": 2,
   "metadata": {},
   "outputs": [
    {
     "data": {
      "text/html": [
       "<div>\n",
       "<style scoped>\n",
       "    .dataframe tbody tr th:only-of-type {\n",
       "        vertical-align: middle;\n",
       "    }\n",
       "\n",
       "    .dataframe tbody tr th {\n",
       "        vertical-align: top;\n",
       "    }\n",
       "\n",
       "    .dataframe thead th {\n",
       "        text-align: right;\n",
       "    }\n",
       "</style>\n",
       "<table border=\"1\" class=\"dataframe\">\n",
       "  <thead>\n",
       "    <tr style=\"text-align: right;\">\n",
       "      <th></th>\n",
       "      <th>source</th>\n",
       "      <th>target</th>\n",
       "    </tr>\n",
       "  </thead>\n",
       "  <tbody>\n",
       "    <tr>\n",
       "      <th>0</th>\n",
       "      <td>94ac58d1b6132b07ef66c47af8bd506bdb67e0c3</td>\n",
       "      <td>09895f8b8e38dba2d62d742541778c97c91d97ce</td>\n",
       "    </tr>\n",
       "    <tr>\n",
       "      <th>1</th>\n",
       "      <td>94ac58d1b6132b07ef66c47af8bd506bdb67e0c3</td>\n",
       "      <td>0cb85c72ea11c067adbdf47e006cd51bd3065ea5</td>\n",
       "    </tr>\n",
       "    <tr>\n",
       "      <th>2</th>\n",
       "      <td>94ac58d1b6132b07ef66c47af8bd506bdb67e0c3</td>\n",
       "      <td>12463ae88245b865eaa11ef632132fb90d187a34</td>\n",
       "    </tr>\n",
       "    <tr>\n",
       "      <th>3</th>\n",
       "      <td>94ac58d1b6132b07ef66c47af8bd506bdb67e0c3</td>\n",
       "      <td>1f089bb17a848f6cf6d90da330352928cd6a4045</td>\n",
       "    </tr>\n",
       "    <tr>\n",
       "      <th>4</th>\n",
       "      <td>94ac58d1b6132b07ef66c47af8bd506bdb67e0c3</td>\n",
       "      <td>26ae952599aa9ba5815a80356024258247fc2b10</td>\n",
       "    </tr>\n",
       "  </tbody>\n",
       "</table>\n",
       "</div>"
      ],
      "text/plain": [
       "                                     source  \\\n",
       "0  94ac58d1b6132b07ef66c47af8bd506bdb67e0c3   \n",
       "1  94ac58d1b6132b07ef66c47af8bd506bdb67e0c3   \n",
       "2  94ac58d1b6132b07ef66c47af8bd506bdb67e0c3   \n",
       "3  94ac58d1b6132b07ef66c47af8bd506bdb67e0c3   \n",
       "4  94ac58d1b6132b07ef66c47af8bd506bdb67e0c3   \n",
       "\n",
       "                                     target  \n",
       "0  09895f8b8e38dba2d62d742541778c97c91d97ce  \n",
       "1  0cb85c72ea11c067adbdf47e006cd51bd3065ea5  \n",
       "2  12463ae88245b865eaa11ef632132fb90d187a34  \n",
       "3  1f089bb17a848f6cf6d90da330352928cd6a4045  \n",
       "4  26ae952599aa9ba5815a80356024258247fc2b10  "
      ]
     },
     "execution_count": 2,
     "metadata": {},
     "output_type": "execute_result"
    }
   ],
   "source": [
    "citations = pd.read_csv(\"data/citations.csv\")\n",
    "citations.head()"
   ]
  },
  {
   "cell_type": "code",
   "execution_count": 3,
   "metadata": {},
   "outputs": [
    {
     "data": {
      "text/html": [
       "<div>\n",
       "<style scoped>\n",
       "    .dataframe tbody tr th:only-of-type {\n",
       "        vertical-align: middle;\n",
       "    }\n",
       "\n",
       "    .dataframe tbody tr th {\n",
       "        vertical-align: top;\n",
       "    }\n",
       "\n",
       "    .dataframe thead th {\n",
       "        text-align: right;\n",
       "    }\n",
       "</style>\n",
       "<table border=\"1\" class=\"dataframe\">\n",
       "  <thead>\n",
       "    <tr style=\"text-align: right;\">\n",
       "      <th></th>\n",
       "      <th>paperId</th>\n",
       "      <th>title</th>\n",
       "      <th>embedding</th>\n",
       "    </tr>\n",
       "  </thead>\n",
       "  <tbody>\n",
       "    <tr>\n",
       "      <th>0</th>\n",
       "      <td>b1cdd6b0ab88dd50b2d228854bd9de3512785444</td>\n",
       "      <td>Optimizing Energy Management Strategy and Degr...</td>\n",
       "      <td>[-1.3419313430786133, 2.403834819793701, -3.24...</td>\n",
       "    </tr>\n",
       "    <tr>\n",
       "      <th>1</th>\n",
       "      <td>e2316b446637ac8e7363af4a95e95b49e3178d97</td>\n",
       "      <td>Data driven quantitative trust model for the I...</td>\n",
       "      <td>[-6.265685558319092, -2.0490870475769043, -2.8...</td>\n",
       "    </tr>\n",
       "    <tr>\n",
       "      <th>2</th>\n",
       "      <td>b1e538dbf538fd9fdf5f5870c5b7416ae08c9882</td>\n",
       "      <td>Differentially Private Federated Learning: A C...</td>\n",
       "      <td>[-5.616217613220215, -0.3546842336654663, -1.3...</td>\n",
       "    </tr>\n",
       "    <tr>\n",
       "      <th>3</th>\n",
       "      <td>0300e96335922acbdee5b9ace2529c2c2c5726a9</td>\n",
       "      <td>Machine Recognition of Hand Printing</td>\n",
       "      <td>[1.551882028579712, -4.45127010345459, -0.4198...</td>\n",
       "    </tr>\n",
       "    <tr>\n",
       "      <th>4</th>\n",
       "      <td>6fc4c7a500a90bb23dbd33d3020338ea3f707019</td>\n",
       "      <td>Bayesian optimization for sensor set selection</td>\n",
       "      <td>[-2.694502830505371, 0.4022102355957031, -1.16...</td>\n",
       "    </tr>\n",
       "  </tbody>\n",
       "</table>\n",
       "</div>"
      ],
      "text/plain": [
       "                                    paperId  \\\n",
       "0  b1cdd6b0ab88dd50b2d228854bd9de3512785444   \n",
       "1  e2316b446637ac8e7363af4a95e95b49e3178d97   \n",
       "2  b1e538dbf538fd9fdf5f5870c5b7416ae08c9882   \n",
       "3  0300e96335922acbdee5b9ace2529c2c2c5726a9   \n",
       "4  6fc4c7a500a90bb23dbd33d3020338ea3f707019   \n",
       "\n",
       "                                               title  \\\n",
       "0  Optimizing Energy Management Strategy and Degr...   \n",
       "1  Data driven quantitative trust model for the I...   \n",
       "2  Differentially Private Federated Learning: A C...   \n",
       "3               Machine Recognition of Hand Printing   \n",
       "4     Bayesian optimization for sensor set selection   \n",
       "\n",
       "                                           embedding  \n",
       "0  [-1.3419313430786133, 2.403834819793701, -3.24...  \n",
       "1  [-6.265685558319092, -2.0490870475769043, -2.8...  \n",
       "2  [-5.616217613220215, -0.3546842336654663, -1.3...  \n",
       "3  [1.551882028579712, -4.45127010345459, -0.4198...  \n",
       "4  [-2.694502830505371, 0.4022102355957031, -1.16...  "
      ]
     },
     "execution_count": 3,
     "metadata": {},
     "output_type": "execute_result"
    }
   ],
   "source": [
    "paper_data = pd.read_csv(\"data/paper_data.csv\")\n",
    "paper_data.embedding = paper_data.embedding.apply(eval).apply(np.array)\n",
    "paper_data.head()"
   ]
  },
  {
   "cell_type": "code",
   "execution_count": 4,
   "metadata": {},
   "outputs": [
    {
     "name": "stdout",
     "output_type": "stream",
     "text": [
      "(3610,)\n",
      "(3610, 768)\n"
     ]
    },
    {
     "data": {
      "text/html": [
       "<div>\n",
       "<style scoped>\n",
       "    .dataframe tbody tr th:only-of-type {\n",
       "        vertical-align: middle;\n",
       "    }\n",
       "\n",
       "    .dataframe tbody tr th {\n",
       "        vertical-align: top;\n",
       "    }\n",
       "\n",
       "    .dataframe thead th {\n",
       "        text-align: right;\n",
       "    }\n",
       "</style>\n",
       "<table border=\"1\" class=\"dataframe\">\n",
       "  <thead>\n",
       "    <tr style=\"text-align: right;\">\n",
       "      <th></th>\n",
       "      <th>source</th>\n",
       "      <th>embedding</th>\n",
       "    </tr>\n",
       "  </thead>\n",
       "  <tbody>\n",
       "    <tr>\n",
       "      <th>0</th>\n",
       "      <td>94ac58d1b6132b07ef66c47af8bd506bdb67e0c3</td>\n",
       "      <td>[-4.880043983459473, -4.219610214233398, -1.25...</td>\n",
       "    </tr>\n",
       "    <tr>\n",
       "      <th>1</th>\n",
       "      <td>94ac58d1b6132b07ef66c47af8bd506bdb67e0c3</td>\n",
       "      <td>[-0.6274266839027405, -2.1419906616210938, -0....</td>\n",
       "    </tr>\n",
       "    <tr>\n",
       "      <th>2</th>\n",
       "      <td>94ac58d1b6132b07ef66c47af8bd506bdb67e0c3</td>\n",
       "      <td>[1.1243658065795898, -4.05387020111084, 1.7792...</td>\n",
       "    </tr>\n",
       "    <tr>\n",
       "      <th>3</th>\n",
       "      <td>94ac58d1b6132b07ef66c47af8bd506bdb67e0c3</td>\n",
       "      <td>[-1.7022638320922852, -1.9811816215515137, 0.5...</td>\n",
       "    </tr>\n",
       "    <tr>\n",
       "      <th>4</th>\n",
       "      <td>94ac58d1b6132b07ef66c47af8bd506bdb67e0c3</td>\n",
       "      <td>[1.1668893098831177, -5.574405193328857, -2.45...</td>\n",
       "    </tr>\n",
       "    <tr>\n",
       "      <th>...</th>\n",
       "      <td>...</td>\n",
       "      <td>...</td>\n",
       "    </tr>\n",
       "    <tr>\n",
       "      <th>3605</th>\n",
       "      <td>e767ea3f3875f096a70bbdac4847436a5e30800e</td>\n",
       "      <td>[-3.1731231212615967, -2.318632125854492, -1.6...</td>\n",
       "    </tr>\n",
       "    <tr>\n",
       "      <th>3606</th>\n",
       "      <td>e767ea3f3875f096a70bbdac4847436a5e30800e</td>\n",
       "      <td>[-5.640353679656982, -6.740667343139648, 0.386...</td>\n",
       "    </tr>\n",
       "    <tr>\n",
       "      <th>3607</th>\n",
       "      <td>e767ea3f3875f096a70bbdac4847436a5e30800e</td>\n",
       "      <td>[-6.084494590759277, -5.140174865722656, -2.05...</td>\n",
       "    </tr>\n",
       "    <tr>\n",
       "      <th>3608</th>\n",
       "      <td>e767ea3f3875f096a70bbdac4847436a5e30800e</td>\n",
       "      <td>[-1.9880496263504028, -3.2681031227111816, -2....</td>\n",
       "    </tr>\n",
       "    <tr>\n",
       "      <th>3609</th>\n",
       "      <td>e767ea3f3875f096a70bbdac4847436a5e30800e</td>\n",
       "      <td>[-3.3028383255004883, -2.3766329288482666, -2....</td>\n",
       "    </tr>\n",
       "  </tbody>\n",
       "</table>\n",
       "<p>3610 rows × 2 columns</p>\n",
       "</div>"
      ],
      "text/plain": [
       "                                        source  \\\n",
       "0     94ac58d1b6132b07ef66c47af8bd506bdb67e0c3   \n",
       "1     94ac58d1b6132b07ef66c47af8bd506bdb67e0c3   \n",
       "2     94ac58d1b6132b07ef66c47af8bd506bdb67e0c3   \n",
       "3     94ac58d1b6132b07ef66c47af8bd506bdb67e0c3   \n",
       "4     94ac58d1b6132b07ef66c47af8bd506bdb67e0c3   \n",
       "...                                        ...   \n",
       "3605  e767ea3f3875f096a70bbdac4847436a5e30800e   \n",
       "3606  e767ea3f3875f096a70bbdac4847436a5e30800e   \n",
       "3607  e767ea3f3875f096a70bbdac4847436a5e30800e   \n",
       "3608  e767ea3f3875f096a70bbdac4847436a5e30800e   \n",
       "3609  e767ea3f3875f096a70bbdac4847436a5e30800e   \n",
       "\n",
       "                                              embedding  \n",
       "0     [-4.880043983459473, -4.219610214233398, -1.25...  \n",
       "1     [-0.6274266839027405, -2.1419906616210938, -0....  \n",
       "2     [1.1243658065795898, -4.05387020111084, 1.7792...  \n",
       "3     [-1.7022638320922852, -1.9811816215515137, 0.5...  \n",
       "4     [1.1668893098831177, -5.574405193328857, -2.45...  \n",
       "...                                                 ...  \n",
       "3605  [-3.1731231212615967, -2.318632125854492, -1.6...  \n",
       "3606  [-5.640353679656982, -6.740667343139648, 0.386...  \n",
       "3607  [-6.084494590759277, -5.140174865722656, -2.05...  \n",
       "3608  [-1.9880496263504028, -3.2681031227111816, -2....  \n",
       "3609  [-3.3028383255004883, -2.3766329288482666, -2....  \n",
       "\n",
       "[3610 rows x 2 columns]"
      ]
     },
     "execution_count": 4,
     "metadata": {},
     "output_type": "execute_result"
    }
   ],
   "source": [
    "og = citations.source[0]\n",
    "og_embedding = paper_data.embedding[paper_data.paperId == og].values[0]\n",
    "\n",
    "reference_embeddings = pd.merge(citations, paper_data, left_on=\"target\", right_on=\"paperId\")[[\"source\", \"embedding\"]]\n",
    "relevant = np.array(reference_embeddings.source == og)\n",
    "embeddings = np.vstack(reference_embeddings.embedding.values)\n",
    "\n",
    "print(relevant.shape)\n",
    "print(embeddings.shape)\n",
    "\n",
    "reference_embeddings"
   ]
  },
  {
   "cell_type": "code",
   "execution_count": 5,
   "metadata": {},
   "outputs": [
    {
     "data": {
      "image/png": "[encoded data removed]",
      "text/plain": [
       "<Figure size 432x288 with 1 Axes>"
      ]
     },
     "metadata": {
      "needs_background": "light"
     },
     "output_type": "display_data"
    }
   ],
   "source": [
    "good = []\n",
    "bad = []\n",
    "\n",
    "for source_paper in np.unique(citations.source):\n",
    "    source_embedding = paper_data.embedding[paper_data.paperId == source_paper].values[0]\n",
    "    distances = np.linalg.norm(embeddings - source_embedding, axis=1)\n",
    "    good.extend(distances[reference_embeddings.source == source_paper])\n",
    "    bad.extend(distances[reference_embeddings.source != source_paper])\n",
    "\n",
    "good = np.array(good)\n",
    "bad = np.array(bad)\n",
    "\n",
    "plt.hist(good, bins=30, alpha=0.3, label=\"relevant\", density=True)\n",
    "plt.hist(bad, bins=30, alpha=0.3, label=\"not relevant\", density=True)\n",
    "plt.legend()\n",
    "plt.title(\"Distribution of Semantic Distances (l2-norm)\")\n",
    "plt.show()"
   ]
  },
  {
   "cell_type": "code",
   "execution_count": 6,
   "metadata": {},
   "outputs": [
    {
     "data": {
      "image/png": "[encoded data removed]",
      "text/plain": [
       "<Figure size 432x288 with 1 Axes>"
      ]
     },
     "metadata": {
      "needs_background": "light"
     },
     "output_type": "display_data"
    }
   ],
   "source": [
    "plt.hist(good**2, bins=30, alpha=0.3, label=\"relevant\", density=True)\n",
    "plt.hist(bad**2, bins=30, alpha=0.3, label=\"not relevant\", density=True)\n",
    "plt.legend()\n",
    "plt.title(\"Distribution of Semantic Distances (squared l2-norm)\")\n",
    "plt.show()"
   ]
  },
  {
   "cell_type": "code",
   "execution_count": 8,
   "metadata": {},
   "outputs": [
    {
     "data": {
      "image/png": "[encoded data removed]",
      "text/plain": [
       "<Figure size 432x288 with 1 Axes>"
      ]
     },
     "metadata": {
      "needs_background": "light"
     },
     "output_type": "display_data"
    }
   ],
   "source": [
    "plt.figure(figsize=(6, 4))\n",
    "\n",
    "for source_paper in np.unique(citations.source):\n",
    "    source_embedding = paper_data.embedding[paper_data.paperId == source_paper].values[0]\n",
    "    distances = np.linalg.norm(embeddings - source_embedding, axis=1)\n",
    "    relevant_here = reference_embeddings.source == source_paper\n",
    "\n",
    "    dist_sort = np.argsort(distances)\n",
    "    relevant_sorted = relevant_here[dist_sort]\n",
    "\n",
    "    precision = np.cumsum(relevant_sorted) / (np.arange(len(relevant_sorted)) + 1)\n",
    "    recall = np.cumsum(relevant_sorted) / relevant_sorted.sum()\n",
    "\n",
    "    plt.plot(distances[dist_sort], precision, \",\", color=\"red\")\n",
    "    plt.plot(distances[dist_sort], recall, \",\", color=\"black\")\n",
    "\n",
    "plt.legend(handles=[Patch(color=\"red\", label=\"precision (correct/got)\"), Patch(color=\"black\", label=\"recall (got/correct)\")])\n",
    "plt.title(\"Precision and Recall for Expanding Sphere\")\n",
    "plt.xlabel(\"Acceptance Threshold (l2-norm)\")\n",
    "plt.show()"
   ]
  },
  {
   "cell_type": "code",
   "execution_count": null,
   "metadata": {},
   "outputs": [],
   "source": []
  }
 ],
 "metadata": {
  "interpreter": {
   "hash": "c30f2af5f468e7f5b45bcc30fca5f4886c90d54777aed916ed5f6294dfb24bf2"
  },
  "kernelspec": {
   "display_name": "Python 3.9.5 ('base')",
   "language": "python",
   "name": "python3"
  },
  "language_info": {
   "codemirror_mode": {
    "name": "ipython",
    "version": 3
   },
   "file_extension": ".py",
   "mimetype": "text/x-python",
   "name": "python",
   "nbconvert_exporter": "python",
   "pygments_lexer": "ipython3",
   "version": "3.9.5"
  },
  "orig_nbformat": 4
 },
 "nbformat": 4,
 "nbformat_minor": 2
}
