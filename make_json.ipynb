{
 "cells": [
  {
   "cell_type": "code",
   "execution_count": 1,
   "metadata": {},
   "outputs": [],
   "source": [
    "paper_data_file = \"big_paper_data.csv\"\n",
    "citations_file = \"big_citations.csv\""
   ]
  },
  {
   "cell_type": "code",
   "execution_count": 25,
   "metadata": {},
   "outputs": [],
   "source": [
    "import pandas as pd\n",
    "import numpy as np\n",
    "import matplotlib.pyplot as plt\n",
    "import json"
   ]
  },
  {
   "cell_type": "code",
   "execution_count": 3,
   "metadata": {},
   "outputs": [
    {
     "name": "stdout",
     "output_type": "stream",
     "text": [
      "Index(['paperId', 'title', 'embedding'], dtype='object')\n",
      "Index(['source', 'target'], dtype='object')\n"
     ]
    }
   ],
   "source": [
    "paper_data = pd.read_csv(paper_data_file)\n",
    "print(paper_data.columns)\n",
    "citations = pd.read_csv(citations_file)\n",
    "print(citations.columns)"
   ]
  },
  {
   "cell_type": "code",
   "execution_count": 4,
   "metadata": {},
   "outputs": [
    {
     "data": {
      "text/plain": [
       "(1524, 768)"
      ]
     },
     "execution_count": 4,
     "metadata": {},
     "output_type": "execute_result"
    }
   ],
   "source": [
    "def get_embedding_matrix(series):\n",
    "    return np.vstack(series.apply(eval).apply(np.array).values)\n",
    "\n",
    "all_embeddings = get_embedding_matrix(paper_data.embedding)\n",
    "all_embeddings.shape"
   ]
  },
  {
   "cell_type": "code",
   "execution_count": 5,
   "metadata": {},
   "outputs": [],
   "source": [
    "# assemble the dataset\n",
    "dataset = []\n",
    "for source_paper in np.unique(citations.source):\n",
    "    citation_group = citations[citations.source == source_paper].target.values\n",
    "    relevant_mask = paper_data.paperId.apply(set(citation_group).__contains__).values\n",
    "    relevant_embeddings = all_embeddings[relevant_mask]\n",
    "    irrelevant_embedding = all_embeddings[~relevant_mask]\n",
    "    dataset.append({\n",
    "        \"source_paper\": source_paper,\n",
    "        \"relevant_embeddings\": relevant_embeddings,\n",
    "        \"irrelevant_embeddings\": irrelevant_embedding\n",
    "    })"
   ]
  },
  {
   "cell_type": "code",
   "execution_count": 22,
   "metadata": {},
   "outputs": [],
   "source": [
    "# more independent irrelevant embeddings\n",
    "for d in dataset:\n",
    "    source = d[\"source_paper\"]\n",
    "    sampled_irrelevant = []\n",
    "    for f in dataset:\n",
    "        if f[\"source_paper\"] != source:\n",
    "            sample_idx = np.random.randint(d[\"irrelevant_embeddings\"].shape[0])\n",
    "            sampled_irrelevant.append(d[\"irrelevant_embeddings\"][sample_idx, :])\n",
    "    d[\"sampled_irrelevant\"] = np.vstack(sampled_irrelevant)"
   ]
  },
  {
   "cell_type": "code",
   "execution_count": 30,
   "metadata": {},
   "outputs": [],
   "source": [
    "for entry in dataset:\n",
    "    for array_name in [\"relevant_embeddings\", \"irrelevant_embeddings\", \"sampled_irrelevant\"]:\n",
    "        entry[array_name] = [list(row) for row in entry[array_name]]"
   ]
  },
  {
   "cell_type": "code",
   "execution_count": 31,
   "metadata": {},
   "outputs": [],
   "source": [
    "with open(\"data/dataset.json\", \"w\") as f:\n",
    "    json.dump(dataset, f)"
   ]
  },
  {
   "cell_type": "code",
   "execution_count": null,
   "metadata": {},
   "outputs": [],
   "source": []
  }
 ],
 "metadata": {
  "interpreter": {
   "hash": "c30f2af5f468e7f5b45bcc30fca5f4886c90d54777aed916ed5f6294dfb24bf2"
  },
  "kernelspec": {
   "display_name": "Python 3.9.5 ('base')",
   "language": "python",
   "name": "python3"
  },
  "language_info": {
   "codemirror_mode": {
    "name": "ipython",
    "version": 3
   },
   "file_extension": ".py",
   "mimetype": "text/x-python",
   "name": "python",
   "nbconvert_exporter": "python",
   "pygments_lexer": "ipython3",
   "version": "3.9.5"
  },
  "orig_nbformat": 4
 },
 "nbformat": 4,
 "nbformat_minor": 2
}
